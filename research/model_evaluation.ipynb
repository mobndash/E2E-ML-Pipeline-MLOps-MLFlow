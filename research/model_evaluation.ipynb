{
 "cells": [
  {
   "cell_type": "code",
   "execution_count": 1,
   "id": "9aa1a521",
   "metadata": {},
   "outputs": [],
   "source": [
    "import ipykernel\n",
    "import os"
   ]
  },
  {
   "cell_type": "code",
   "execution_count": 2,
   "id": "0d473706",
   "metadata": {},
   "outputs": [
    {
     "data": {
      "text/plain": [
       "'e:\\\\ProjectPractice\\\\E2E-ML-Pipeline-MLOps-MLFlow\\\\research'"
      ]
     },
     "execution_count": 2,
     "metadata": {},
     "output_type": "execute_result"
    }
   ],
   "source": [
    "%pwd"
   ]
  },
  {
   "cell_type": "code",
   "execution_count": 3,
   "id": "ab3a7880",
   "metadata": {},
   "outputs": [],
   "source": [
    "os.chdir(\"../\")"
   ]
  },
  {
   "cell_type": "code",
   "execution_count": 4,
   "id": "1aea2408",
   "metadata": {},
   "outputs": [],
   "source": [
    "import pandas as pd\n",
    "from dataclasses import dataclass\n",
    "from pathlib import Path"
   ]
  },
  {
   "cell_type": "code",
   "execution_count": 5,
   "id": "8513db14",
   "metadata": {},
   "outputs": [],
   "source": [
    "os.environ[\"MLFLOW_TRACKING_URI\"]=\"https://dagshub.com/mobndash/E2E-ML-Pipeline-MLOps-MLFlow.mlflow\"\n",
    "os.environ[\"MLFLOW_TRACKING_USERNAME\"]=\"mobndash\"\n",
    "os.environ[\"MLFLOW_TRACKING_PASSWORD\"]=\"8ba3f29223901e8f121aa24fe4e49db1d09adc15\""
   ]
  },
  {
   "cell_type": "code",
   "execution_count": 6,
   "id": "fafbb989",
   "metadata": {},
   "outputs": [],
   "source": [
    "@dataclass(frozen=True)\n",
    "class ModelEvaluationConfig :\n",
    "    root_dir : Path\n",
    "    test_data_path : Path\n",
    "    model_path : str\n",
    "    all_params : dict\n",
    "    metric_file_name : Path\n",
    "    mlflow_uri : str\n",
    "    target_column : str"
   ]
  },
  {
   "cell_type": "code",
   "execution_count": 7,
   "id": "06eeaa88",
   "metadata": {},
   "outputs": [],
   "source": [
    "from src.ML_MLOps_MLFlow_Pipeline import *\n",
    "from src.ML_MLOps_MLFlow_Pipeline.constants import *\n",
    "from src.ML_MLOps_MLFlow_Pipeline.utils.common import read_yaml, create_directories"
   ]
  },
  {
   "cell_type": "code",
   "execution_count": 8,
   "id": "22a66468",
   "metadata": {},
   "outputs": [],
   "source": [
    "class ConfigurationManager:\n",
    "    def __init__(\n",
    "        self,\n",
    "        config_filepath = CONFIG_FILE_PATH,\n",
    "        params_filepath = PARAMS_FILE_PATH,\n",
    "        schema_filepath = SCHEMA_FILE_PATH):\n",
    "        \n",
    "            \n",
    "        self.config = read_yaml(config_filepath)\n",
    "        self.params = read_yaml(params_filepath)\n",
    "        self.schema = read_yaml(schema_filepath)\n",
    "        \n",
    "        create_directories([self.config.artifacts_root])\n",
    "        \n",
    "    def get_model_evaluation_config(self) -> ModelEvaluationConfig :\n",
    "        config = self.config.model_evaluation\n",
    "        params = self.params.ElasticNet\n",
    "        schema = self.schema.TARGET_COLUMN\n",
    "        \n",
    "        create_directories([config.root_dir])\n",
    "        \n",
    "        model_evaluation_config = ModelEvaluationConfig(\n",
    "            root_dir = config.root_dir,\n",
    "            test_data_path = config.test_data_path,\n",
    "            model_path = config.model_path,\n",
    "            all_params = params,\n",
    "            metric_file_name = config.metric_file_name,\n",
    "            mlflow_uri = \"https://dagshub.com/mobndash/E2E-ML-Pipeline-MLOps-MLFlow.mlflow\",\n",
    "            target_column = schema.name\n",
    "        )\n",
    "        \n",
    "        return model_evaluation_config"
   ]
  },
  {
   "cell_type": "code",
   "execution_count": 9,
   "id": "3be7c105",
   "metadata": {},
   "outputs": [],
   "source": [
    "import mlflow\n",
    "import mlflow.sklearn\n",
    "import pandas as pd\n",
    "import joblib\n",
    "import numpy as np\n",
    "from pathlib import Path\n",
    "from urllib.parse import urlparse\n",
    "from sklearn.metrics import mean_squared_error, mean_absolute_error, r2_score\n",
    "from src.ML_MLOps_MLFlow_Pipeline.utils.common import save_json# adjust import as needed\n",
    "\n",
    "class ModelEvaluation:\n",
    "    def __init__(self, config: ModelEvaluationConfig):\n",
    "        self.config = config\n",
    "    \n",
    "    def eval_metrics(self, actual, pred):\n",
    "        rmse = np.sqrt(mean_squared_error(actual, pred))\n",
    "        mae = mean_absolute_error(actual, pred)\n",
    "        r2 = r2_score(actual, pred)\n",
    "        return rmse, mae, r2\n",
    "    \n",
    "    def log_in_mlflow(self):\n",
    "        test_data = pd.read_csv(self.config.test_data_path)\n",
    "        model = joblib.load(self.config.model_path)\n",
    "        \n",
    "        test_x = test_data.drop([self.config.target_column], axis=1)\n",
    "        test_y = test_data[self.config.target_column]\n",
    "\n",
    "        mlflow.set_tracking_uri(self.config.mlflow_uri)\n",
    "        \n",
    "        tracking_url_type_store = urlparse(mlflow.get_tracking_uri()).scheme\n",
    "        \n",
    "        with mlflow.start_run():\n",
    "            predicted_qualities = model.predict(test_x)\n",
    "            rmse, mae, r2 = self.eval_metrics(test_y, predicted_qualities)\n",
    "            \n",
    "            scores = {\"rmse\": rmse, \"mae\": mae, \"r2\": r2}\n",
    "            save_json(path=Path(self.config.metric_file_name), data=scores)\n",
    "            \n",
    "            mlflow.log_params(self.config.all_params)\n",
    "            mlflow.log_metric(\"rmse\", rmse)\n",
    "            mlflow.log_metric(\"mae\", mae)\n",
    "            mlflow.log_metric(\"r2\", r2)\n",
    "                \n",
    "            if tracking_url_type_store != \"file\":\n",
    "                local_model_path = Path(\"artifacts/model\")\n",
    "                mlflow.sklearn.save_model(model, path=local_model_path)\n",
    "                mlflow.log_artifacts(local_model_path, artifact_path=\"model\")\n",
    "            else: \n",
    "                mlflow.sklearn.log_model(model, \"model\")\n"
   ]
  },
  {
   "cell_type": "code",
   "execution_count": 11,
   "id": "3973c83c",
   "metadata": {},
   "outputs": [
    {
     "name": "stdout",
     "output_type": "stream",
     "text": [
      "[2025-08-16 14:22:11,407: INFO: common: yaml file : <_io.TextIOWrapper name='config\\\\config.yaml' mode='r' encoding='UTF-8'> loaded successfully]\n",
      "[2025-08-16 14:22:11,411: INFO: common: yaml file : <_io.TextIOWrapper name='params.yaml' mode='r' encoding='UTF-8'> loaded successfully]\n",
      "[2025-08-16 14:22:11,418: INFO: common: yaml file : <_io.TextIOWrapper name='schema.yaml' mode='r' encoding='UTF-8'> loaded successfully]\n",
      "[2025-08-16 14:22:11,420: INFO: common: Created directory at path : artifacts]\n",
      "[2025-08-16 14:22:11,423: INFO: common: Created directory at path : artifacts/model_evaluation]\n",
      "[2025-08-16 14:22:11,912: INFO: common: Saved JSON file at path : artifacts\\model_evaluation\\metrics.json]\n"
     ]
    },
    {
     "name": "stderr",
     "output_type": "stream",
     "text": [
      "c:\\Users\\swapn\\anaconda3\\envs\\mle2evenv\\lib\\site-packages\\_distutils_hack\\__init__.py:30: UserWarning: Setuptools is replacing distutils. Support for replacing an already imported distutils is deprecated. In the future, this condition will fail. Register concerns at https://github.com/pypa/setuptools/issues/new?template=distutils-deprecation.yml\n",
      "  warnings.warn(\n"
     ]
    }
   ],
   "source": [
    "try :\n",
    "    config = ConfigurationManager()\n",
    "    model_evaluation_config = config.get_model_evaluation_config()\n",
    "    model_evaluation_config = ModelEvaluation(config = model_evaluation_config)\n",
    "    model_evaluation_config.log_in_mlflow()\n",
    "except Exception as e :\n",
    "    raise e"
   ]
  },
  {
   "cell_type": "code",
   "execution_count": null,
   "id": "41bf388e",
   "metadata": {},
   "outputs": [],
   "source": []
  }
 ],
 "metadata": {
  "kernelspec": {
   "display_name": "mle2evenv",
   "language": "python",
   "name": "python3"
  },
  "language_info": {
   "codemirror_mode": {
    "name": "ipython",
    "version": 3
   },
   "file_extension": ".py",
   "mimetype": "text/x-python",
   "name": "python",
   "nbconvert_exporter": "python",
   "pygments_lexer": "ipython3",
   "version": "3.10.18"
  }
 },
 "nbformat": 4,
 "nbformat_minor": 5
}
