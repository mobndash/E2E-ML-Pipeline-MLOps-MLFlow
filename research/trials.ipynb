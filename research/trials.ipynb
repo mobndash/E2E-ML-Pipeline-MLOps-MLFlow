{
 "cells": [
  {
   "cell_type": "code",
   "execution_count": null,
   "id": "40226dfc",
   "metadata": {
    "vscode": {
     "languageId": "plaintext"
    }
   },
   "outputs": [],
   "source": []
  }
 ],
 "metadata": {
  "language_info": {
   "name": "python"
  }
 },
 "nbformat": 4,
 "nbformat_minor": 5
}
